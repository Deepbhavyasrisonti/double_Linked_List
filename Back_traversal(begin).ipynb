{
 "cells": [
  {
   "cell_type": "code",
   "execution_count": 1,
   "id": "de8cc8b5-5580-4bd0-98f6-ca092cb04fb4",
   "metadata": {},
   "outputs": [
    {
     "name": "stdin",
     "output_type": "stream",
     "text": [
      "enter the number of elements at end : 5\n",
      "enter element1: 55\n",
      "enter element2: 44\n",
      "enter element3: 33\n",
      "enter element4: 22\n",
      "enter element5: 11\n"
     ]
    },
    {
     "name": "stdout",
     "output_type": "stream",
     "text": [
      "Doubly Linked List:\n",
      "11<--->22<--->33<--->44<--->55<--->None\n",
      "values for traversing backward....\n",
      "55<----->44<----->33<----->22<----->11<----->None\n"
     ]
    }
   ],
   "source": [
    "class Node:\n",
    "    def __init__(self,data):\n",
    "        self.data=data\n",
    "        self.prev=None\n",
    "        self.next=None\n",
    "class DoublyLinkedList:\n",
    "    def __init__(self):\n",
    "        self.head=None\n",
    "    def iab(self,data):\n",
    "        newnode=Node(data)\n",
    "        if self.head is None:\n",
    "            self.head=newnode\n",
    "            return\n",
    "        newnode.next=self.head\n",
    "        self.head.prev=newnode\n",
    "        self.head=newnode\n",
    "    def backtraverse(self):\n",
    "        print(\"values for traversing backward....\")\n",
    "        temp=self.head\n",
    "        if not temp:\n",
    "            print(\"empty list\")\n",
    "            return\n",
    "        while temp.next:\n",
    "            temp=temp.next\n",
    "        while temp:\n",
    "            print(temp.data,end=\"<----->\")\n",
    "            temp=temp.prev\n",
    "        print(\"None\")\n",
    "    def display(self):\n",
    "        temp=self.head\n",
    "        print(\"Doubly Linked List:\")\n",
    "        while temp:\n",
    "            print(temp.data,end='<--->')\n",
    "            temp=temp.next\n",
    "        print(\"None\")\n",
    "dll=DoublyLinkedList()\n",
    "n=int(input(\"enter the number of elements at end :\"))\n",
    "for i in range(n):\n",
    "    val=int(input(f\"enter element{i+1}:\"))\n",
    "    dll.iab(val)\n",
    "dll.display()\n",
    "dll.backtraverse()"
   ]
  },
  {
   "cell_type": "code",
   "execution_count": null,
   "id": "cd2b5863-f83e-4c58-8d0d-b829bd79a1cc",
   "metadata": {},
   "outputs": [],
   "source": []
  }
 ],
 "metadata": {
  "kernelspec": {
   "display_name": "Python 3 (ipykernel)",
   "language": "python",
   "name": "python3"
  },
  "language_info": {
   "codemirror_mode": {
    "name": "ipython",
    "version": 3
   },
   "file_extension": ".py",
   "mimetype": "text/x-python",
   "name": "python",
   "nbconvert_exporter": "python",
   "pygments_lexer": "ipython3",
   "version": "3.12.7"
  }
 },
 "nbformat": 4,
 "nbformat_minor": 5
}

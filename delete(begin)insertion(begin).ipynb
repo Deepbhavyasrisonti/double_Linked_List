{
 "cells": [
  {
   "cell_type": "code",
   "execution_count": 3,
   "id": "20d602e5-8161-4ac1-9e5a-3d89ad0c5cf9",
   "metadata": {},
   "outputs": [
    {
     "name": "stdin",
     "output_type": "stream",
     "text": [
      "enter the number of elements at end : 5\n",
      "enter element1: 55\n",
      "enter element2: 44\n",
      "enter element3: 33\n",
      "enter element4: 22\n",
      "enter element5: 11\n"
     ]
    },
    {
     "name": "stdout",
     "output_type": "stream",
     "text": [
      "Doubly Linked List:\n",
      "11<--->22<--->33<--->44<--->55<--->None\n"
     ]
    },
    {
     "name": "stdin",
     "output_type": "stream",
     "text": [
      "\n",
      " how many times you want to perform delete op: 2\n"
     ]
    },
    {
     "name": "stdout",
     "output_type": "stream",
     "text": [
      "deleted:11\n",
      "Doubly Linked List:\n",
      "22<--->33<--->44<--->55<--->None\n",
      "deleted:22\n",
      "Doubly Linked List:\n",
      "33<--->44<--->55<--->None\n"
     ]
    }
   ],
   "source": [
    "class Node:\n",
    "    def __init__(self,data):\n",
    "        self.data=data\n",
    "        self.prev=None\n",
    "        self.next=None\n",
    "class DoublyLinkedList:\n",
    "    def __init__(self):\n",
    "        self.head=None\n",
    "    def iab(self,data):\n",
    "        newnode=Node(data)\n",
    "        if self.head is None:\n",
    "            self.head=newnode\n",
    "            return\n",
    "        newnode.next=self.head\n",
    "        self.head.prev=newnode\n",
    "        self.head=newnode\n",
    "    def dab(self):\n",
    "        if not self.head:\n",
    "            print(\"cant perform delete in an empty list\")\n",
    "        print(f\"deleted:{self.head.data}\")\n",
    "        self.head=self.head.next\n",
    "        if self.head:\n",
    "            self.head.prev=None\n",
    "    def display(self):\n",
    "        temp=self.head\n",
    "        print(\"Doubly Linked List:\")\n",
    "        while temp:\n",
    "            print(temp.data,end='<--->')\n",
    "            temp=temp.next\n",
    "        print(\"None\")\n",
    "dll=DoublyLinkedList()\n",
    "n=int(input(\"enter the number of elements at end :\"))\n",
    "for i in range(n):\n",
    "    val=int(input(f\"enter element{i+1}:\"))\n",
    "    dll.iab(val)\n",
    "dll.display()\n",
    "d=int(input(\"\\n how many times you want to perform delete op:\"))\n",
    "for _ in range(d):\n",
    "    dll.dab()\n",
    "    dll.display()"
   ]
  },
  {
   "cell_type": "code",
   "execution_count": null,
   "id": "1ecad6ba-475f-41b0-89ac-67cfcb408f49",
   "metadata": {},
   "outputs": [],
   "source": []
  }
 ],
 "metadata": {
  "kernelspec": {
   "display_name": "Python 3 (ipykernel)",
   "language": "python",
   "name": "python3"
  },
  "language_info": {
   "codemirror_mode": {
    "name": "ipython",
    "version": 3
   },
   "file_extension": ".py",
   "mimetype": "text/x-python",
   "name": "python",
   "nbconvert_exporter": "python",
   "pygments_lexer": "ipython3",
   "version": "3.12.7"
  }
 },
 "nbformat": 4,
 "nbformat_minor": 5
}

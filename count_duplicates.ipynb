{
 "cells": [
  {
   "cell_type": "code",
   "execution_count": 5,
   "id": "e62fca43-da00-47f3-9e2e-f96143d67fda",
   "metadata": {},
   "outputs": [
    {
     "name": "stdin",
     "output_type": "stream",
     "text": [
      "enter the number of elements at end : 6\n",
      "enter element1: 10\n",
      "enter element2: 20\n",
      "enter element3: 30\n",
      "enter element4: 20\n",
      "enter element5: 10\n",
      "enter element6: 40\n"
     ]
    },
    {
     "name": "stdout",
     "output_type": "stream",
     "text": [
      "Doubly Linked List:\n",
      "10<--->20<--->30<--->20<--->10<--->40<--->None\n",
      "duplicate values and theie count\n",
      "10 appears 2 times\n",
      "20 appears 2 times\n"
     ]
    }
   ],
   "source": [
    "\"\"\"code checks the duplicates in a dll and print the count of frequency \n",
    "input=6\n",
    "10\n",
    "20\n",
    "30\n",
    "20\n",
    "10\n",
    "40\n",
    "ouput:\n",
    "DLL\n",
    "10<-->20<-->30<-->20<-->10<-->40\n",
    "duplicates values in DLL:\n",
    "10 appears 2 times\n",
    "20 appears 2 times\"\"\"\n",
    "class Node:\n",
    "    def __init__(self,data):\n",
    "        self.data=data\n",
    "        self.prev=None\n",
    "        self.next=None\n",
    "class DoublyLinkedList:\n",
    "    def __init__(self):\n",
    "        self.head=None\n",
    "    def iae(self,data):\n",
    "        newnode=Node(data)\n",
    "        if self.head is None:\n",
    "            self.head=newnode\n",
    "            return\n",
    "        temp=self.head\n",
    "        while temp.next:\n",
    "            temp=temp.next\n",
    "        temp.next=newnode\n",
    "        newnode.prev=temp\n",
    "    def count_dup(self):\n",
    "        freq={}\n",
    "        temp=self.head\n",
    "        while temp:\n",
    "            freq[temp.data]=freq.get(temp.data,0)+1\n",
    "            temp=temp.next\n",
    "        dup={k:v for k,v in freq.items() if v>1}\n",
    "        if dup:\n",
    "            print(\"duplicate values and theie count\")\n",
    "            for val,count in dup.items():\n",
    "                print(f\"{val} appears {count} times\")\n",
    "        else:\n",
    "            print(\"No duplicates\")\n",
    "            \n",
    "    def display(self):\n",
    "        temp=self.head\n",
    "        print(\"Doubly Linked List:\")\n",
    "        while temp:\n",
    "            print(temp.data,end='<--->')\n",
    "            temp=temp.next\n",
    "        print(\"None\")\n",
    "dll=DoublyLinkedList()\n",
    "n=int(input(\"enter the number of elements at end :\"))\n",
    "for i in range(n):\n",
    "    val=int(input(f\"enter element{i+1}:\"))\n",
    "    dll.iae(val)\n",
    "dll.display()\n",
    "dll.count_dup()"
   ]
  },
  {
   "cell_type": "code",
   "execution_count": null,
   "id": "fbf24505-4936-476f-83c4-e748720bcf80",
   "metadata": {},
   "outputs": [],
   "source": []
  }
 ],
 "metadata": {
  "kernelspec": {
   "display_name": "Python 3 (ipykernel)",
   "language": "python",
   "name": "python3"
  },
  "language_info": {
   "codemirror_mode": {
    "name": "ipython",
    "version": 3
   },
   "file_extension": ".py",
   "mimetype": "text/x-python",
   "name": "python",
   "nbconvert_exporter": "python",
   "pygments_lexer": "ipython3",
   "version": "3.12.7"
  }
 },
 "nbformat": 4,
 "nbformat_minor": 5
}

{
 "cells": [
  {
   "cell_type": "code",
   "execution_count": 3,
   "id": "3255ca9f-12a4-47fd-a573-6aff476c0e07",
   "metadata": {},
   "outputs": [
    {
     "name": "stdin",
     "output_type": "stream",
     "text": [
      "enter the number of elements at end : 5\n",
      "enter element1: 10\n",
      "enter element2: 20\n",
      "enter element3: 30\n",
      "enter element4: 40\n",
      "enter element5: 50\n"
     ]
    },
    {
     "name": "stdout",
     "output_type": "stream",
     "text": [
      "Doubly Linked List:\n",
      "50<--->40<--->30<--->20<--->10<--->None\n"
     ]
    }
   ],
   "source": [
    "class Node:\n",
    "    def __init__(self,data):\n",
    "        self.data=data\n",
    "        self.prev=None\n",
    "        self.next=None\n",
    "class DoublyLinkedList:\n",
    "    def __init__(self):\n",
    "        self.head=None\n",
    "    def iab(self,data):\n",
    "        newnode=Node(data)\n",
    "        if self.head is None:\n",
    "            self.head=newnode\n",
    "            return\n",
    "        newnode.next=self.head\n",
    "        self.head.prev=newnode\n",
    "        self.head=newnode\n",
    "    def display(self):\n",
    "        temp=self.head\n",
    "        print(\"Doubly Linked List:\")\n",
    "        while temp:\n",
    "            print(temp.data,end='<--->')\n",
    "            temp=temp.next\n",
    "        print(\"None\")\n",
    "dll=DoublyLinkedList()\n",
    "n=int(input(\"enter the number of elements at end :\"))\n",
    "for i in range(n):\n",
    "    val=int(input(f\"enter element{i+1}:\"))\n",
    "    dll.iab(val)\n",
    "dll.display()"
   ]
  },
  {
   "cell_type": "code",
   "execution_count": null,
   "id": "3b34c1e3-f9d0-4c9a-88ed-c33801e93297",
   "metadata": {},
   "outputs": [],
   "source": []
  }
 ],
 "metadata": {
  "kernelspec": {
   "display_name": "Python 3 (ipykernel)",
   "language": "python",
   "name": "python3"
  },
  "language_info": {
   "codemirror_mode": {
    "name": "ipython",
    "version": 3
   },
   "file_extension": ".py",
   "mimetype": "text/x-python",
   "name": "python",
   "nbconvert_exporter": "python",
   "pygments_lexer": "ipython3",
   "version": "3.12.7"
  }
 },
 "nbformat": 4,
 "nbformat_minor": 5
}

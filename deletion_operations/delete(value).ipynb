{
 "cells": [
  {
   "cell_type": "code",
   "execution_count": 1,
   "id": "88a12a98-2e8b-4451-9127-aef8314887bb",
   "metadata": {},
   "outputs": [
    {
     "name": "stdin",
     "output_type": "stream",
     "text": [
      "enter the number of elements at end : 5\n",
      "enter element1: 11\n",
      "enter element2: 22\n",
      "enter element3: 33\n",
      "enter element4: 44\n",
      "enter element5: 55\n"
     ]
    },
    {
     "name": "stdout",
     "output_type": "stream",
     "text": [
      "Doubly Linked List:\n",
      "55<--->44<--->33<--->22<--->11<--->None\n"
     ]
    },
    {
     "name": "stdin",
     "output_type": "stream",
     "text": [
      "Enter value to delete:  33\n"
     ]
    },
    {
     "name": "stdout",
     "output_type": "stream",
     "text": [
      "Deleted node with value 33\n",
      "Doubly Linked List:\n",
      "55<--->44<--->22<--->11<--->None\n"
     ]
    }
   ],
   "source": [
    "#deletion by a value\n",
    "class Node:\n",
    "    def __init__(self,data):\n",
    "        self.data=data\n",
    "        self.prev=None\n",
    "        self.next=None\n",
    "class DoublyLinkedList:\n",
    "    def __init__(self):\n",
    "        self.head=None\n",
    "    def iab(self,data):\n",
    "        newnode=Node(data)\n",
    "        if self.head is None:\n",
    "            self.head=newnode\n",
    "            return\n",
    "        newnode.next=self.head\n",
    "        self.head.prev=newnode\n",
    "        self.head=newnode\n",
    "    def dbv(self, value):\n",
    "        temp = self.head\n",
    "        if temp is None:\n",
    "            print(\"List is empty, nothing to delete.\")\n",
    "            return\n",
    "        while temp:\n",
    "            if temp.data == value:\n",
    "                if temp.prev is None:\n",
    "                    self.head = temp.next\n",
    "                    if self.head:\n",
    "                        self.head.prev = None\n",
    "                else:\n",
    "                    temp.prev.next = temp.next\n",
    "                    if temp.next:\n",
    "                        temp.next.prev = temp.prev\n",
    "                print(f\"Deleted node with value {value}\")\n",
    "                return  \n",
    "            temp = temp.next\n",
    "    def display(self):\n",
    "        temp=self.head\n",
    "        print(\"Doubly Linked List:\")\n",
    "        while temp:\n",
    "            print(temp.data,end='<--->')\n",
    "            temp=temp.next\n",
    "        print(\"None\")\n",
    "dll=DoublyLinkedList()\n",
    "n=int(input(\"enter the number of elements at beg :\"))\n",
    "for i in range(n):\n",
    "    val=int(input(f\"enter element{i+1}:\"))\n",
    "    dll.iab(val)\n",
    "dll.display()\n",
    "key = int(input(\"Enter value to delete: \"))\n",
    "dll.dbv(key)\n",
    "dll.display()"
   ]
  },
  {
   "cell_type": "code",
   "execution_count": null,
   "id": "a5c20dbe-0947-48de-853b-e6d3488ae9bc",
   "metadata": {},
   "outputs": [],
   "source": []
  }
 ],
 "metadata": {
  "kernelspec": {
   "display_name": "Python 3 (ipykernel)",
   "language": "python",
   "name": "python3"
  },
  "language_info": {
   "codemirror_mode": {
    "name": "ipython",
    "version": 3
   },
   "file_extension": ".py",
   "mimetype": "text/x-python",
   "name": "python",
   "nbconvert_exporter": "python",
   "pygments_lexer": "ipython3",
   "version": "3.12.7"
  }
 },
 "nbformat": 4,
 "nbformat_minor": 5
}

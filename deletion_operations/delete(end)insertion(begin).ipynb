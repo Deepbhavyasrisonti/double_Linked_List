{
 "cells": [
  {
   "cell_type": "code",
   "execution_count": null,
   "id": "62359a1e-3ddd-4542-92b8-39888f6d0c89",
   "metadata": {},
   "outputs": [],
   "source": [
    "class Node:\n",
    "    def __init__(self,data):\n",
    "        self.data=data\n",
    "        self.prev=None\n",
    "        self.next=None\n",
    "class DoublyLinkedList:\n",
    "    def __init__(self):\n",
    "        self.head=None\n",
    "    def iab(self,data):\n",
    "        newnode=Node(data)\n",
    "        if self.head is None:\n",
    "            self.head=newnode\n",
    "            return\n",
    "        newnode.next=self.head\n",
    "        self.head.prev=newnode\n",
    "        self.head=newnode\n",
    "    def dae(self):\n",
    "        if self.head is None:\n",
    "            print(\"cant perform delete in an empty list\")\n",
    "            return\n",
    "        temp=self.head\n",
    "        while temp.next:\n",
    "            temp=temp.next\n",
    "        print(f\"Deleted:{temp.data}\")\n",
    "        if temp.prev:\n",
    "            temp.prev.next=None\n",
    "        else:\n",
    "            self.head=None\n",
    "    def display(self):\n",
    "        temp=self.head\n",
    "        print(\"Doubly Linked List:\")\n",
    "        while temp:\n",
    "            print(temp.data,end='<--->')\n",
    "            temp=temp.next\n",
    "        print(\"None\")\n",
    "dll=DoublyLinkedList()\n",
    "n=int(input(\"enter the number of elements at end :\"))\n",
    "for i in range(n):\n",
    "    val=int(input(f\"enter element{i+1}:\"))\n",
    "    dll.iab(val)\n",
    "dll.display()\n",
    "d=int(input(\"\\n how many times you want to perform delete op:\"))\n",
    "for _ in range(d):\n",
    "    dll.dab()\n",
    "    dll.display()"
   ]
  }
 ],
 "metadata": {
  "kernelspec": {
   "display_name": "Python 3 (ipykernel)",
   "language": "python",
   "name": "python3"
  },
  "language_info": {
   "codemirror_mode": {
    "name": "ipython",
    "version": 3
   },
   "file_extension": ".py",
   "mimetype": "text/x-python",
   "name": "python",
   "nbconvert_exporter": "python",
   "pygments_lexer": "ipython3",
   "version": "3.12.7"
  }
 },
 "nbformat": 4,
 "nbformat_minor": 5
}

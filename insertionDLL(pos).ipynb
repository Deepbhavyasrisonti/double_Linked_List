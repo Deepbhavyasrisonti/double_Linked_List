{
 "cells": [
  {
   "cell_type": "code",
   "execution_count": 7,
   "id": "9cdb07db-a5a1-441c-9bb9-0eca7b6633e6",
   "metadata": {},
   "outputs": [
    {
     "name": "stdin",
     "output_type": "stream",
     "text": [
      "enter the number of elements at end : 3\n",
      "enter element1: 10\n",
      "enter the position to insert the element 1: 1\n",
      "enter element2: 20\n",
      "enter the position to insert the element 2: 2\n",
      "enter element3: 30\n",
      "enter the position to insert the element 3: 2\n"
     ]
    },
    {
     "name": "stdout",
     "output_type": "stream",
     "text": [
      "Doubly Linked List:\n",
      "10<--->30<--->20<--->None\n"
     ]
    }
   ],
   "source": [
    "class Node:\n",
    "    def __init__(self,data):\n",
    "        self.data=data\n",
    "        self.prev=None\n",
    "        self.next=None\n",
    "class DoublyLinkedList:\n",
    "    def __init__(self):\n",
    "        self.head=None\n",
    "    def iap(self,data,pos):\n",
    "        newnode=Node(data)\n",
    "        if pos<=0:\n",
    "            print(\"Invalid position\")\n",
    "            return\n",
    "        if pos==1:\n",
    "            newnode.next=self.head\n",
    "            if self.head:\n",
    "                self.head.prev=newnode\n",
    "            self.head=newnode\n",
    "            return\n",
    "        temp=self.head\n",
    "        for _ in range(pos-2):\n",
    "            if temp is None:\n",
    "                print(\"position out of range\")\n",
    "                return\n",
    "            temp.next=next\n",
    "        if temp is None:\n",
    "            print(\"position outof range\")\n",
    "            return\n",
    "        newnode.next=temp.next\n",
    "        newnode.prev=temp\n",
    "        if temp.next:\n",
    "            temp.next.prev=newnode\n",
    "        temp.next=newnode\n",
    "    def display(self):\n",
    "        temp=self.head\n",
    "        print(\"Doubly Linked List:\")\n",
    "        while temp:\n",
    "            print(temp.data,end='<--->')\n",
    "            temp=temp.next\n",
    "        print(\"None\")\n",
    "dll=DoublyLinkedList()\n",
    "n=int(input(\"enter the number of elements at end :\"))\n",
    "for i in range(n):\n",
    "    val=int(input(f\"enter element{i+1}:\"))\n",
    "    pos=int(input(f\"enter the position to insert the element {i+1}:\"))\n",
    "    dll.iap(val,pos)\n",
    "dll.display()"
   ]
  },
  {
   "cell_type": "code",
   "execution_count": null,
   "id": "fea66df3-501b-4619-a6ec-0652383fa2ed",
   "metadata": {},
   "outputs": [],
   "source": []
  }
 ],
 "metadata": {
  "kernelspec": {
   "display_name": "Python 3 (ipykernel)",
   "language": "python",
   "name": "python3"
  },
  "language_info": {
   "codemirror_mode": {
    "name": "ipython",
    "version": 3
   },
   "file_extension": ".py",
   "mimetype": "text/x-python",
   "name": "python",
   "nbconvert_exporter": "python",
   "pygments_lexer": "ipython3",
   "version": "3.12.7"
  }
 },
 "nbformat": 4,
 "nbformat_minor": 5
}
